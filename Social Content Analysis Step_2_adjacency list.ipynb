{
 "cells": [
  {
   "cell_type": "markdown",
   "metadata": {},
   "source": [
    "# Init: Load Libraries and Functions"
   ]
  },
  {
   "cell_type": "code",
   "execution_count": 1,
   "metadata": {},
   "outputs": [],
   "source": [
    "from collections import defaultdict \n",
    "import pandas as pd\n",
    "import numpy as np\n",
    "import spacy\n",
    "from spacy.lang.en import English\n",
    "from spacy.lang.en.stop_words import STOP_WORDS\n",
    "import string\n",
    "from textblob import TextBlob  \n",
    "import os\n",
    "import re\n",
    "\n",
    "\n",
    "#random seed for reproducibility\n",
    "np.random.seed(67)"
   ]
  },
  {
   "cell_type": "raw",
   "metadata": {},
   "source": [
    "Function below uses pre-built model for sentiment classification from TextBlob\n",
    "https://textblob.readthedocs.io/en/dev/quickstart.html"
   ]
  },
  {
   "cell_type": "code",
   "execution_count": 2,
   "metadata": {},
   "outputs": [],
   "source": [
    "def polarity_scorer(input_text):\n",
    "    \"\"\"This function operates on a column in a data frame using apply().\n",
    "    Takes a column as an input and returns a tuple of the polarity score and subjectivity score\n",
    "    use .tolist() to split into separate columns, like here: https://stackoverflow.com/questions/29550414/how-to-split-column-of-tuples-in-pandas-dataframe\"\"\"\n",
    "    text = TextBlob(input_text)\n",
    "    polarity_score = text.sentiment.polarity\n",
    "    subjectivity_score = text.sentiment.subjectivity\n",
    "    \n",
    "    return polarity_score, subjectivity_score"
   ]
  },
  {
   "cell_type": "raw",
   "metadata": {},
   "source": [
    "Function to tokenize a document as preparation for topic modeling"
   ]
  },
  {
   "cell_type": "code",
   "execution_count": 3,
   "metadata": {},
   "outputs": [],
   "source": [
    "nlp = spacy.load('en_core_web_lg')\n",
    "punctuations = string.punctuation #this is a python module which contains all the punctuations characters in English (and probably other languages too)\n",
    "stopwords = list(STOP_WORDS)\n",
    "\n",
    "def spacy_tokenizer(input_text):\n",
    "    \"\"\"removes stop words and punctuation from a document, converts all tokens to lower case\n",
    "    and combines all tokens into one string.\n",
    "    used in this example it appends a new column to a dataframe through apply()\"\"\"\n",
    "    processed_text = re.sub(r\"http\\S+\", '', input_text) # remove URLS, https://stackoverflow.com/questions/24399820/expression-to-remove-url-links-from-twitter-tweet\n",
    "    mytokens = nlp(processed_text)\n",
    "    mytokens = [word.lemma_.lower().strip() if word.lemma_ != \"-PRON-\" else word.lower_ for word in mytokens ]\n",
    "    mytokens = [word for word in mytokens if word not in stopwords and word not in punctuations ]\n",
    "    mytokens = \" \".join([i for i in mytokens])\n",
    "    return mytokens"
   ]
  },
  {
   "cell_type": "raw",
   "metadata": {},
   "source": [
    "function to create table for entities based on text tokens with stopwords and puncutation removed"
   ]
  },
  {
   "cell_type": "code",
   "execution_count": 4,
   "metadata": {},
   "outputs": [],
   "source": [
    "# removing stopwords, it's this easy: https://medium.com/@makcedward/nlp-pipeline-stop-words-part-5-d6770df8a936\n",
    "\n",
    "def token_parser(input_text):\n",
    "    \"\"\"This function creates a table with the text token and parts of a speech for a piece of text\n",
    "    Builds one to many relationships by expanding all the tokens within a single document\"\"\"\n",
    "    table = pd.DataFrame()\n",
    "    doc = nlp(input_text)\n",
    "    text = [token.text for token in doc if not token.is_stop]\n",
    "    pos = [token.pos_ for token in doc if not token.is_stop]\n",
    "    table['text'] = text\n",
    "    table['pos'] = pos\n",
    "    \n",
    "    return table"
   ]
  },
  {
   "cell_type": "raw",
   "metadata": {},
   "source": [
    "Function to turn an SciKit-Learn vectorized matrix into a dataframe"
   ]
  },
  {
   "cell_type": "code",
   "execution_count": 5,
   "metadata": {},
   "outputs": [],
   "source": [
    "def wordmatrix_to_dataframe(wordmatrix, feature_names):\n",
    "\n",
    "    \"\"\"This function takes a word matrix from SK-Learn and turns into a dataframe\"\"\"\n",
    "    # create an index for each row\n",
    "    doc_names = ['Doc{:d}'.format(idx) for idx, _ in enumerate(wordmatrix)]\n",
    "    df = pd.DataFrame(data=wordmatrix.toarray(), #index = doc_names,\n",
    "                     columns = feature_names)\n",
    "    \n",
    "    return df"
   ]
  },
  {
   "cell_type": "raw",
   "metadata": {},
   "source": [
    "Function to turn the dataframe created above into an adjacency list for graph analysis"
   ]
  },
  {
   "cell_type": "code",
   "execution_count": 6,
   "metadata": {},
   "outputs": [],
   "source": [
    "def create_adjacency_list(adjacency_matrix):\n",
    "    \n",
    "    \"\"\"This function takes a dataframe of  a dataframe\"\"\"\n",
    "    table_out = pd.DataFrame(columns = ['id', 'target'])\n",
    "    \n",
    "    for i in range(len(adjacency_matrix)):\n",
    "\n",
    "        filtered_table = pd.DataFrame(adjacency_matrix.iloc[i])\n",
    "        filtered_table = filtered_table.transpose()\n",
    "        filtered_table = filtered_table.loc[:, ~(filtered_table==0).any(axis=0)]\n",
    "        \n",
    "        \n",
    "        #for column in filtered_table.columns:\n",
    "        temp_table = pd.DataFrame(columns = ['id', 'target'])\n",
    "        source = [filtered_table.index.values[0] for column in filtered_table.columns]\n",
    "        target = [column for column in filtered_table.columns]\n",
    "        \n",
    "        temp_table['id'] = source\n",
    "        temp_table['target'] = target\n",
    "            \n",
    "        table_out = table_out.append(temp_table)\n",
    " \n",
    "    return table_out\n",
    "    "
   ]
  },
  {
   "cell_type": "code",
   "execution_count": null,
   "metadata": {},
   "outputs": [],
   "source": []
  },
  {
   "cell_type": "markdown",
   "metadata": {},
   "source": [
    "# Load files and tokenize"
   ]
  },
  {
   "cell_type": "raw",
   "metadata": {},
   "source": [
    "Read in input files and create one dataframe"
   ]
  },
  {
   "cell_type": "code",
   "execution_count": 7,
   "metadata": {},
   "outputs": [],
   "source": [
    "path = 'exports/'\n",
    "files = [f for f in os.listdir(path) if os.path.isfile(os.path.join(path,f))]\n"
   ]
  },
  {
   "cell_type": "code",
   "execution_count": 8,
   "metadata": {},
   "outputs": [
    {
     "data": {
      "text/plain": [
       "['@GlobalGiving_tweets.csv',\n",
       " '@RESCUEorg_tweets.csv',\n",
       " '@RedCross_tweets.csv',\n",
       " '@Refugees_tweets.csv',\n",
       " '@UNHumanRights_tweets.csv',\n",
       " '@ICRC_tweets.csv',\n",
       " '@SavetheChildren_tweets.csv',\n",
       " '@UNICEF_tweets.csv',\n",
       " '@MSF_tweets.csv',\n",
       " '@WCKitchen_tweets.csv']"
      ]
     },
     "execution_count": 8,
     "metadata": {},
     "output_type": "execute_result"
    }
   ],
   "source": [
    "files"
   ]
  },
  {
   "cell_type": "code",
   "execution_count": 9,
   "metadata": {},
   "outputs": [
    {
     "data": {
      "text/plain": [
       "(23687, 4)"
      ]
     },
     "execution_count": 9,
     "metadata": {},
     "output_type": "execute_result"
    }
   ],
   "source": [
    "text_to_drop = '_tweets.csv'\n",
    "all_files = pd.DataFrame(columns = ['id', 'created_at', 'text', 'brand'])\n",
    "\n",
    "for file in files:\n",
    "    each_file = pd.read_csv(path+file)\n",
    "    each_file['brand'] = file.replace(text_to_drop, '') #https://www.journaldev.com/23674/python-remove-character-from-string\n",
    "    all_files = all_files.append(each_file)\n",
    "    \n",
    "all_files.shape"
   ]
  },
  {
   "cell_type": "raw",
   "metadata": {},
   "source": [
    "Filter recent tweets for Ukraine crisis analysis"
   ]
  },
  {
   "cell_type": "code",
   "execution_count": 10,
   "metadata": {},
   "outputs": [],
   "source": [
    "all_files.created_at = pd.to_datetime(all_files.created_at)"
   ]
  },
  {
   "cell_type": "code",
   "execution_count": 11,
   "metadata": {},
   "outputs": [],
   "source": [
    "all_files = all_files.loc[all_files.created_at > \"2022-02-15\"]"
   ]
  },
  {
   "cell_type": "code",
   "execution_count": 12,
   "metadata": {},
   "outputs": [],
   "source": [
    "all_files.to_csv('data_backup.csv', index = False)"
   ]
  },
  {
   "cell_type": "code",
   "execution_count": 13,
   "metadata": {},
   "outputs": [],
   "source": [
    "data = all_files.copy()"
   ]
  },
  {
   "cell_type": "code",
   "execution_count": 14,
   "metadata": {},
   "outputs": [
    {
     "data": {
      "text/html": [
       "<div>\n",
       "<style scoped>\n",
       "    .dataframe tbody tr th:only-of-type {\n",
       "        vertical-align: middle;\n",
       "    }\n",
       "\n",
       "    .dataframe tbody tr th {\n",
       "        vertical-align: top;\n",
       "    }\n",
       "\n",
       "    .dataframe thead th {\n",
       "        text-align: right;\n",
       "    }\n",
       "</style>\n",
       "<table border=\"1\" class=\"dataframe\">\n",
       "  <thead>\n",
       "    <tr style=\"text-align: right;\">\n",
       "      <th></th>\n",
       "      <th>id</th>\n",
       "      <th>created_at</th>\n",
       "      <th>text</th>\n",
       "      <th>brand</th>\n",
       "    </tr>\n",
       "  </thead>\n",
       "  <tbody>\n",
       "    <tr>\n",
       "      <th>0</th>\n",
       "      <td>1500215577817886725</td>\n",
       "      <td>2022-03-05 21:04:01+00:00</td>\n",
       "      <td>UPDATE: Tabletochki Charity Foundation is one ...</td>\n",
       "      <td>@GlobalGiving</td>\n",
       "    </tr>\n",
       "    <tr>\n",
       "      <th>1</th>\n",
       "      <td>1499909560030662661</td>\n",
       "      <td>2022-03-05 00:48:00+00:00</td>\n",
       "      <td>The link between #war and #hunger is clear—yet...</td>\n",
       "      <td>@GlobalGiving</td>\n",
       "    </tr>\n",
       "    <tr>\n",
       "      <th>2</th>\n",
       "      <td>1499834444349386758</td>\n",
       "      <td>2022-03-04 19:49:31+00:00</td>\n",
       "      <td>@ItsFangs Thank you so much for showing your s...</td>\n",
       "      <td>@GlobalGiving</td>\n",
       "    </tr>\n",
       "    <tr>\n",
       "      <th>3</th>\n",
       "      <td>1499833815874818052</td>\n",
       "      <td>2022-03-04 19:47:01+00:00</td>\n",
       "      <td>@Kellyrei007 Thank you so much for showing you...</td>\n",
       "      <td>@GlobalGiving</td>\n",
       "    </tr>\n",
       "    <tr>\n",
       "      <th>4</th>\n",
       "      <td>1499833431584350216</td>\n",
       "      <td>2022-03-04 19:45:30+00:00</td>\n",
       "      <td>@jerryg125 Thank you for sharing! 🙌 🙌 #StandWi...</td>\n",
       "      <td>@GlobalGiving</td>\n",
       "    </tr>\n",
       "  </tbody>\n",
       "</table>\n",
       "</div>"
      ],
      "text/plain": [
       "                    id                created_at  \\\n",
       "0  1500215577817886725 2022-03-05 21:04:01+00:00   \n",
       "1  1499909560030662661 2022-03-05 00:48:00+00:00   \n",
       "2  1499834444349386758 2022-03-04 19:49:31+00:00   \n",
       "3  1499833815874818052 2022-03-04 19:47:01+00:00   \n",
       "4  1499833431584350216 2022-03-04 19:45:30+00:00   \n",
       "\n",
       "                                                text          brand  \n",
       "0  UPDATE: Tabletochki Charity Foundation is one ...  @GlobalGiving  \n",
       "1  The link between #war and #hunger is clear—yet...  @GlobalGiving  \n",
       "2  @ItsFangs Thank you so much for showing your s...  @GlobalGiving  \n",
       "3  @Kellyrei007 Thank you so much for showing you...  @GlobalGiving  \n",
       "4  @jerryg125 Thank you for sharing! 🙌 🙌 #StandWi...  @GlobalGiving  "
      ]
     },
     "execution_count": 14,
     "metadata": {},
     "output_type": "execute_result"
    }
   ],
   "source": [
    "data.head()"
   ]
  },
  {
   "cell_type": "code",
   "execution_count": 15,
   "metadata": {},
   "outputs": [
    {
     "data": {
      "text/plain": [
       "@WCKitchen          367\n",
       "@Refugees           205\n",
       "@UNICEF             158\n",
       "@ICRC               134\n",
       "@GlobalGiving       105\n",
       "@RedCross           101\n",
       "@SavetheChildren     85\n",
       "@MSF                 62\n",
       "@UNHumanRights       62\n",
       "@RESCUEorg           59\n",
       "Name: brand, dtype: int64"
      ]
     },
     "execution_count": 15,
     "metadata": {},
     "output_type": "execute_result"
    }
   ],
   "source": [
    "data.brand.value_counts()"
   ]
  },
  {
   "cell_type": "markdown",
   "metadata": {},
   "source": [
    "## Sentiment Analysis "
   ]
  },
  {
   "cell_type": "code",
   "execution_count": 16,
   "metadata": {
    "tags": []
   },
   "outputs": [
    {
     "data": {
      "text/html": [
       "<div>\n",
       "<style scoped>\n",
       "    .dataframe tbody tr th:only-of-type {\n",
       "        vertical-align: middle;\n",
       "    }\n",
       "\n",
       "    .dataframe tbody tr th {\n",
       "        vertical-align: top;\n",
       "    }\n",
       "\n",
       "    .dataframe thead th {\n",
       "        text-align: right;\n",
       "    }\n",
       "</style>\n",
       "<table border=\"1\" class=\"dataframe\">\n",
       "  <thead>\n",
       "    <tr style=\"text-align: right;\">\n",
       "      <th></th>\n",
       "      <th>id</th>\n",
       "      <th>created_at</th>\n",
       "      <th>text</th>\n",
       "      <th>brand</th>\n",
       "      <th>polarity_score</th>\n",
       "      <th>subjectivity_score</th>\n",
       "    </tr>\n",
       "  </thead>\n",
       "  <tbody>\n",
       "    <tr>\n",
       "      <th>0</th>\n",
       "      <td>1500215577817886725</td>\n",
       "      <td>2022-03-05 21:04:01+00:00</td>\n",
       "      <td>UPDATE: Tabletochki Charity Foundation is one ...</td>\n",
       "      <td>@GlobalGiving</td>\n",
       "      <td>0.34375</td>\n",
       "      <td>0.5125</td>\n",
       "    </tr>\n",
       "    <tr>\n",
       "      <th>1</th>\n",
       "      <td>1499909560030662661</td>\n",
       "      <td>2022-03-05 00:48:00+00:00</td>\n",
       "      <td>The link between #war and #hunger is clear—yet...</td>\n",
       "      <td>@GlobalGiving</td>\n",
       "      <td>0.06250</td>\n",
       "      <td>0.5000</td>\n",
       "    </tr>\n",
       "    <tr>\n",
       "      <th>2</th>\n",
       "      <td>1499834444349386758</td>\n",
       "      <td>2022-03-04 19:49:31+00:00</td>\n",
       "      <td>@ItsFangs Thank you so much for showing your s...</td>\n",
       "      <td>@GlobalGiving</td>\n",
       "      <td>0.07500</td>\n",
       "      <td>0.3250</td>\n",
       "    </tr>\n",
       "    <tr>\n",
       "      <th>3</th>\n",
       "      <td>1499833815874818052</td>\n",
       "      <td>2022-03-04 19:47:01+00:00</td>\n",
       "      <td>@Kellyrei007 Thank you so much for showing you...</td>\n",
       "      <td>@GlobalGiving</td>\n",
       "      <td>0.25000</td>\n",
       "      <td>0.2000</td>\n",
       "    </tr>\n",
       "    <tr>\n",
       "      <th>4</th>\n",
       "      <td>1499833431584350216</td>\n",
       "      <td>2022-03-04 19:45:30+00:00</td>\n",
       "      <td>@jerryg125 Thank you for sharing! 🙌 🙌 #StandWi...</td>\n",
       "      <td>@GlobalGiving</td>\n",
       "      <td>0.00000</td>\n",
       "      <td>0.0000</td>\n",
       "    </tr>\n",
       "  </tbody>\n",
       "</table>\n",
       "</div>"
      ],
      "text/plain": [
       "                    id                created_at  \\\n",
       "0  1500215577817886725 2022-03-05 21:04:01+00:00   \n",
       "1  1499909560030662661 2022-03-05 00:48:00+00:00   \n",
       "2  1499834444349386758 2022-03-04 19:49:31+00:00   \n",
       "3  1499833815874818052 2022-03-04 19:47:01+00:00   \n",
       "4  1499833431584350216 2022-03-04 19:45:30+00:00   \n",
       "\n",
       "                                                text          brand  \\\n",
       "0  UPDATE: Tabletochki Charity Foundation is one ...  @GlobalGiving   \n",
       "1  The link between #war and #hunger is clear—yet...  @GlobalGiving   \n",
       "2  @ItsFangs Thank you so much for showing your s...  @GlobalGiving   \n",
       "3  @Kellyrei007 Thank you so much for showing you...  @GlobalGiving   \n",
       "4  @jerryg125 Thank you for sharing! 🙌 🙌 #StandWi...  @GlobalGiving   \n",
       "\n",
       "   polarity_score  subjectivity_score  \n",
       "0         0.34375              0.5125  \n",
       "1         0.06250              0.5000  \n",
       "2         0.07500              0.3250  \n",
       "3         0.25000              0.2000  \n",
       "4         0.00000              0.0000  "
      ]
     },
     "execution_count": 16,
     "metadata": {},
     "output_type": "execute_result"
    }
   ],
   "source": [
    "# calls functions through apply(), returns a tuple then splits the results into 2 columns\n",
    "data.text = data.text.astype('str') \n",
    "\n",
    "data[['polarity_score', 'subjectivity_score']] = pd.DataFrame(data.text.apply(polarity_scorer).tolist(), index = data.index)\n",
    "\n",
    "data.head()"
   ]
  },
  {
   "cell_type": "markdown",
   "metadata": {},
   "source": [
    "## Tokenizer"
   ]
  },
  {
   "cell_type": "code",
   "execution_count": 17,
   "metadata": {},
   "outputs": [],
   "source": [
    "data['processed_text'] = data.text.apply(spacy_tokenizer)"
   ]
  },
  {
   "cell_type": "code",
   "execution_count": 18,
   "metadata": {
    "tags": []
   },
   "outputs": [
    {
     "data": {
      "text/html": [
       "<div>\n",
       "<style scoped>\n",
       "    .dataframe tbody tr th:only-of-type {\n",
       "        vertical-align: middle;\n",
       "    }\n",
       "\n",
       "    .dataframe tbody tr th {\n",
       "        vertical-align: top;\n",
       "    }\n",
       "\n",
       "    .dataframe thead th {\n",
       "        text-align: right;\n",
       "    }\n",
       "</style>\n",
       "<table border=\"1\" class=\"dataframe\">\n",
       "  <thead>\n",
       "    <tr style=\"text-align: right;\">\n",
       "      <th></th>\n",
       "      <th>id</th>\n",
       "      <th>created_at</th>\n",
       "      <th>text</th>\n",
       "      <th>brand</th>\n",
       "      <th>polarity_score</th>\n",
       "      <th>subjectivity_score</th>\n",
       "      <th>processed_text</th>\n",
       "    </tr>\n",
       "  </thead>\n",
       "  <tbody>\n",
       "    <tr>\n",
       "      <th>0</th>\n",
       "      <td>1500215577817886725</td>\n",
       "      <td>2022-03-05 21:04:01+00:00</td>\n",
       "      <td>UPDATE: Tabletochki Charity Foundation is one ...</td>\n",
       "      <td>@GlobalGiving</td>\n",
       "      <td>0.34375</td>\n",
       "      <td>0.5125</td>\n",
       "      <td>update tabletochki charity foundation 20 nonpr...</td>\n",
       "    </tr>\n",
       "    <tr>\n",
       "      <th>1</th>\n",
       "      <td>1499909560030662661</td>\n",
       "      <td>2022-03-05 00:48:00+00:00</td>\n",
       "      <td>The link between #war and #hunger is clear—yet...</td>\n",
       "      <td>@GlobalGiving</td>\n",
       "      <td>0.06250</td>\n",
       "      <td>0.5000</td>\n",
       "      <td>link war hunger clear — overlook ukraine russi...</td>\n",
       "    </tr>\n",
       "    <tr>\n",
       "      <th>2</th>\n",
       "      <td>1499834444349386758</td>\n",
       "      <td>2022-03-04 19:49:31+00:00</td>\n",
       "      <td>@ItsFangs Thank you so much for showing your s...</td>\n",
       "      <td>@GlobalGiving</td>\n",
       "      <td>0.07500</td>\n",
       "      <td>0.3250</td>\n",
       "      <td>@itsfang thank support help community ukraine ...</td>\n",
       "    </tr>\n",
       "    <tr>\n",
       "      <th>3</th>\n",
       "      <td>1499833815874818052</td>\n",
       "      <td>2022-03-04 19:47:01+00:00</td>\n",
       "      <td>@Kellyrei007 Thank you so much for showing you...</td>\n",
       "      <td>@GlobalGiving</td>\n",
       "      <td>0.25000</td>\n",
       "      <td>0.2000</td>\n",
       "      <td>@kellyrei007 thank support standwithukraine</td>\n",
       "    </tr>\n",
       "    <tr>\n",
       "      <th>4</th>\n",
       "      <td>1499833431584350216</td>\n",
       "      <td>2022-03-04 19:45:30+00:00</td>\n",
       "      <td>@jerryg125 Thank you for sharing! 🙌 🙌 #StandWi...</td>\n",
       "      <td>@GlobalGiving</td>\n",
       "      <td>0.00000</td>\n",
       "      <td>0.0000</td>\n",
       "      <td>@jerryg125 thank share 🙌 🙌 standwithukraine</td>\n",
       "    </tr>\n",
       "  </tbody>\n",
       "</table>\n",
       "</div>"
      ],
      "text/plain": [
       "                    id                created_at  \\\n",
       "0  1500215577817886725 2022-03-05 21:04:01+00:00   \n",
       "1  1499909560030662661 2022-03-05 00:48:00+00:00   \n",
       "2  1499834444349386758 2022-03-04 19:49:31+00:00   \n",
       "3  1499833815874818052 2022-03-04 19:47:01+00:00   \n",
       "4  1499833431584350216 2022-03-04 19:45:30+00:00   \n",
       "\n",
       "                                                text          brand  \\\n",
       "0  UPDATE: Tabletochki Charity Foundation is one ...  @GlobalGiving   \n",
       "1  The link between #war and #hunger is clear—yet...  @GlobalGiving   \n",
       "2  @ItsFangs Thank you so much for showing your s...  @GlobalGiving   \n",
       "3  @Kellyrei007 Thank you so much for showing you...  @GlobalGiving   \n",
       "4  @jerryg125 Thank you for sharing! 🙌 🙌 #StandWi...  @GlobalGiving   \n",
       "\n",
       "   polarity_score  subjectivity_score  \\\n",
       "0         0.34375              0.5125   \n",
       "1         0.06250              0.5000   \n",
       "2         0.07500              0.3250   \n",
       "3         0.25000              0.2000   \n",
       "4         0.00000              0.0000   \n",
       "\n",
       "                                      processed_text  \n",
       "0  update tabletochki charity foundation 20 nonpr...  \n",
       "1  link war hunger clear — overlook ukraine russi...  \n",
       "2  @itsfang thank support help community ukraine ...  \n",
       "3        @kellyrei007 thank support standwithukraine  \n",
       "4        @jerryg125 thank share 🙌 🙌 standwithukraine  "
      ]
     },
     "execution_count": 18,
     "metadata": {},
     "output_type": "execute_result"
    }
   ],
   "source": [
    "data.head()"
   ]
  },
  {
   "cell_type": "code",
   "execution_count": 19,
   "metadata": {},
   "outputs": [],
   "source": [
    "data.to_csv('data_backup.csv', index = False)"
   ]
  },
  {
   "cell_type": "markdown",
   "metadata": {},
   "source": [
    "## creating entities out of tokenized text"
   ]
  },
  {
   "cell_type": "code",
   "execution_count": 20,
   "metadata": {},
   "outputs": [
    {
     "data": {
      "text/plain": [
       "(17949, 3)"
      ]
     },
     "execution_count": 20,
     "metadata": {},
     "output_type": "execute_result"
    }
   ],
   "source": [
    "entities_table = pd.DataFrame(columns=['text', 'pos', 'id'])\n",
    "\n",
    "for i in range(len(data)):\n",
    "    tokens_table = token_parser(data.iloc[i].processed_text)  \n",
    "    tokens_table['id'] = data.iloc[i].id  \n",
    "    entities_table = entities_table.append(tokens_table)\n",
    "\n",
    "entities_table = entities_table[-entities_table['pos'].str.contains('SPACE')] # removing spaces, punctuation\n",
    "entities_table = entities_table[-entities_table['pos'].str.contains('PUNCT')]\n",
    "entities_table.reset_index(drop = True, inplace = True)\n",
    "\n",
    "entities_table.shape"
   ]
  },
  {
   "cell_type": "code",
   "execution_count": 21,
   "metadata": {},
   "outputs": [
    {
     "data": {
      "text/html": [
       "<div>\n",
       "<style scoped>\n",
       "    .dataframe tbody tr th:only-of-type {\n",
       "        vertical-align: middle;\n",
       "    }\n",
       "\n",
       "    .dataframe tbody tr th {\n",
       "        vertical-align: top;\n",
       "    }\n",
       "\n",
       "    .dataframe thead th {\n",
       "        text-align: right;\n",
       "    }\n",
       "</style>\n",
       "<table border=\"1\" class=\"dataframe\">\n",
       "  <thead>\n",
       "    <tr style=\"text-align: right;\">\n",
       "      <th></th>\n",
       "      <th>text</th>\n",
       "      <th>pos</th>\n",
       "      <th>id</th>\n",
       "    </tr>\n",
       "  </thead>\n",
       "  <tbody>\n",
       "    <tr>\n",
       "      <th>0</th>\n",
       "      <td>update</td>\n",
       "      <td>VERB</td>\n",
       "      <td>1500215577817886725</td>\n",
       "    </tr>\n",
       "    <tr>\n",
       "      <th>1</th>\n",
       "      <td>tabletochki</td>\n",
       "      <td>PROPN</td>\n",
       "      <td>1500215577817886725</td>\n",
       "    </tr>\n",
       "    <tr>\n",
       "      <th>2</th>\n",
       "      <td>charity</td>\n",
       "      <td>PROPN</td>\n",
       "      <td>1500215577817886725</td>\n",
       "    </tr>\n",
       "    <tr>\n",
       "      <th>3</th>\n",
       "      <td>foundation</td>\n",
       "      <td>PROPN</td>\n",
       "      <td>1500215577817886725</td>\n",
       "    </tr>\n",
       "    <tr>\n",
       "      <th>4</th>\n",
       "      <td>20</td>\n",
       "      <td>NUM</td>\n",
       "      <td>1500215577817886725</td>\n",
       "    </tr>\n",
       "  </tbody>\n",
       "</table>\n",
       "</div>"
      ],
      "text/plain": [
       "          text    pos                   id\n",
       "0       update   VERB  1500215577817886725\n",
       "1  tabletochki  PROPN  1500215577817886725\n",
       "2      charity  PROPN  1500215577817886725\n",
       "3   foundation  PROPN  1500215577817886725\n",
       "4           20    NUM  1500215577817886725"
      ]
     },
     "execution_count": 21,
     "metadata": {},
     "output_type": "execute_result"
    }
   ],
   "source": [
    "entities_table.head()"
   ]
  },
  {
   "cell_type": "code",
   "execution_count": 22,
   "metadata": {},
   "outputs": [],
   "source": [
    "entities_table.to_csv('data_entities.csv', index = False)"
   ]
  },
  {
   "cell_type": "markdown",
   "metadata": {},
   "source": [
    "## Vectorizer to build matrix"
   ]
  },
  {
   "cell_type": "code",
   "execution_count": 23,
   "metadata": {},
   "outputs": [],
   "source": [
    "from sklearn.feature_extraction.text import CountVectorizer, TfidfVectorizer\n",
    "from sklearn.cluster import KMeans\n",
    "from sklearn.metrics import silhouette_samples, silhouette_score \n"
   ]
  },
  {
   "cell_type": "raw",
   "metadata": {},
   "source": [
    "Run this part if loading data from a pre-saved checkpoint"
   ]
  },
  {
   "cell_type": "code",
   "execution_count": 24,
   "metadata": {},
   "outputs": [],
   "source": [
    "#processed_tweets = pd.read_csv('analysis output v2.csv')\n",
    "#processed_tweets.processed_text = processed_tweets.processed_text.astype('str')"
   ]
  },
  {
   "cell_type": "code",
   "execution_count": 25,
   "metadata": {},
   "outputs": [],
   "source": [
    "# Creating a vectorizer\n",
    "vectorizer = CountVectorizer(min_df=0.003, max_df=0.9, stop_words='english', \n",
    "                             lowercase=True, token_pattern='[a-z0-9]{2,}')  \n",
    "\n",
    "# reference to using min and max df arguments\n",
    "# https://stackoverflow.com/questions/27697766/understanding-min-df-and-max-df-in-scikit-countvectorizer\n",
    "\n",
    "# token pattern captures any non-whitespace character, e.g. hashtags starting with numbers\n",
    "\n",
    "data_vectorized = vectorizer.fit_transform(data[\"processed_text\"])"
   ]
  },
  {
   "cell_type": "raw",
   "metadata": {},
   "source": [
    "Checking the ideal number of topics (clusters) via KMeans silhoueette scores as a diagnostic"
   ]
  },
  {
   "cell_type": "code",
   "execution_count": 26,
   "metadata": {
    "tags": []
   },
   "outputs": [
    {
     "name": "stdout",
     "output_type": "stream",
     "text": [
      "For number of topics:  2 the average silhouette score is:  0.1368332241956945\n",
      "For number of topics:  3 the average silhouette score is:  0.13662546109927054\n",
      "For number of topics:  4 the average silhouette score is:  0.017949205646379657\n",
      "For number of topics:  5 the average silhouette score is:  0.026059512392076645\n",
      "For number of topics:  6 the average silhouette score is:  0.007152305203992406\n",
      "For number of topics:  7 the average silhouette score is:  0.013990016253839494\n",
      "For number of topics:  8 the average silhouette score is:  0.022446033868902888\n",
      "For number of topics:  9 the average silhouette score is:  -0.05167175488566481\n",
      "For number of topics:  10 the average silhouette score is:  0.03481756436550594\n",
      "For number of topics:  11 the average silhouette score is:  0.0014216143414394642\n"
     ]
    }
   ],
   "source": [
    "#https://scikit-learn.org/stable/auto_examples/cluster/plot_kmeans_silhouette_analysis.html#\n",
    "    \n",
    "n_components = [2, 3, 4, 5, 6, 7, 8, 9, 10, 11]\n",
    "\n",
    "for i in n_components:\n",
    "    clusterer = KMeans(n_clusters=i, random_state = 37)\n",
    "    cluster_labels = clusterer.fit_predict(data_vectorized)\n",
    "\n",
    "    silhouette_avg = silhouette_score(data_vectorized, cluster_labels)\n",
    "    print(\"For number of topics: \", i,\n",
    "          \"the average silhouette score is: \", silhouette_avg)\n",
    "    \n"
   ]
  },
  {
   "cell_type": "markdown",
   "metadata": {},
   "source": [
    "# Export matrix to adjacency list"
   ]
  },
  {
   "cell_type": "code",
   "execution_count": 27,
   "metadata": {},
   "outputs": [
    {
     "data": {
      "text/plain": [
       "610"
      ]
     },
     "execution_count": 27,
     "metadata": {},
     "output_type": "execute_result"
    }
   ],
   "source": [
    "# calling word matrix to dataframe function\n",
    "features = vectorizer.get_feature_names()\n",
    "len(features)"
   ]
  },
  {
   "cell_type": "code",
   "execution_count": 28,
   "metadata": {},
   "outputs": [],
   "source": [
    "adjacency_matrix = wordmatrix_to_dataframe(data_vectorized, features)\n",
    "documents_ids = data['id']\n",
    "adjacency_matrix.index = documents_ids"
   ]
  },
  {
   "cell_type": "code",
   "execution_count": 29,
   "metadata": {
    "tags": []
   },
   "outputs": [
    {
     "data": {
      "text/html": [
       "<div>\n",
       "<style scoped>\n",
       "    .dataframe tbody tr th:only-of-type {\n",
       "        vertical-align: middle;\n",
       "    }\n",
       "\n",
       "    .dataframe tbody tr th {\n",
       "        vertical-align: top;\n",
       "    }\n",
       "\n",
       "    .dataframe thead th {\n",
       "        text-align: right;\n",
       "    }\n",
       "</style>\n",
       "<table border=\"1\" class=\"dataframe\">\n",
       "  <thead>\n",
       "    <tr style=\"text-align: right;\">\n",
       "      <th></th>\n",
       "      <th>000</th>\n",
       "      <th>10</th>\n",
       "      <th>100</th>\n",
       "      <th>11</th>\n",
       "      <th>12</th>\n",
       "      <th>15</th>\n",
       "      <th>16</th>\n",
       "      <th>18</th>\n",
       "      <th>19</th>\n",
       "      <th>1james</th>\n",
       "      <th>...</th>\n",
       "      <th>work</th>\n",
       "      <th>worker</th>\n",
       "      <th>world</th>\n",
       "      <th>worried</th>\n",
       "      <th>wound</th>\n",
       "      <th>year</th>\n",
       "      <th>yemen</th>\n",
       "      <th>yesterday</th>\n",
       "      <th>young</th>\n",
       "      <th>zone</th>\n",
       "    </tr>\n",
       "    <tr>\n",
       "      <th>id</th>\n",
       "      <th></th>\n",
       "      <th></th>\n",
       "      <th></th>\n",
       "      <th></th>\n",
       "      <th></th>\n",
       "      <th></th>\n",
       "      <th></th>\n",
       "      <th></th>\n",
       "      <th></th>\n",
       "      <th></th>\n",
       "      <th></th>\n",
       "      <th></th>\n",
       "      <th></th>\n",
       "      <th></th>\n",
       "      <th></th>\n",
       "      <th></th>\n",
       "      <th></th>\n",
       "      <th></th>\n",
       "      <th></th>\n",
       "      <th></th>\n",
       "      <th></th>\n",
       "    </tr>\n",
       "  </thead>\n",
       "  <tbody>\n",
       "    <tr>\n",
       "      <th>1500215577817886725</th>\n",
       "      <td>0</td>\n",
       "      <td>0</td>\n",
       "      <td>0</td>\n",
       "      <td>0</td>\n",
       "      <td>0</td>\n",
       "      <td>0</td>\n",
       "      <td>0</td>\n",
       "      <td>0</td>\n",
       "      <td>0</td>\n",
       "      <td>0</td>\n",
       "      <td>...</td>\n",
       "      <td>1</td>\n",
       "      <td>0</td>\n",
       "      <td>0</td>\n",
       "      <td>0</td>\n",
       "      <td>0</td>\n",
       "      <td>0</td>\n",
       "      <td>0</td>\n",
       "      <td>0</td>\n",
       "      <td>0</td>\n",
       "      <td>0</td>\n",
       "    </tr>\n",
       "    <tr>\n",
       "      <th>1499909560030662661</th>\n",
       "      <td>0</td>\n",
       "      <td>0</td>\n",
       "      <td>0</td>\n",
       "      <td>0</td>\n",
       "      <td>0</td>\n",
       "      <td>0</td>\n",
       "      <td>0</td>\n",
       "      <td>0</td>\n",
       "      <td>0</td>\n",
       "      <td>0</td>\n",
       "      <td>...</td>\n",
       "      <td>0</td>\n",
       "      <td>0</td>\n",
       "      <td>0</td>\n",
       "      <td>0</td>\n",
       "      <td>0</td>\n",
       "      <td>0</td>\n",
       "      <td>0</td>\n",
       "      <td>0</td>\n",
       "      <td>0</td>\n",
       "      <td>0</td>\n",
       "    </tr>\n",
       "    <tr>\n",
       "      <th>1499834444349386758</th>\n",
       "      <td>0</td>\n",
       "      <td>0</td>\n",
       "      <td>0</td>\n",
       "      <td>0</td>\n",
       "      <td>0</td>\n",
       "      <td>0</td>\n",
       "      <td>0</td>\n",
       "      <td>0</td>\n",
       "      <td>0</td>\n",
       "      <td>0</td>\n",
       "      <td>...</td>\n",
       "      <td>0</td>\n",
       "      <td>0</td>\n",
       "      <td>0</td>\n",
       "      <td>0</td>\n",
       "      <td>0</td>\n",
       "      <td>0</td>\n",
       "      <td>0</td>\n",
       "      <td>0</td>\n",
       "      <td>0</td>\n",
       "      <td>0</td>\n",
       "    </tr>\n",
       "    <tr>\n",
       "      <th>1499833815874818052</th>\n",
       "      <td>0</td>\n",
       "      <td>0</td>\n",
       "      <td>0</td>\n",
       "      <td>0</td>\n",
       "      <td>0</td>\n",
       "      <td>0</td>\n",
       "      <td>0</td>\n",
       "      <td>0</td>\n",
       "      <td>0</td>\n",
       "      <td>0</td>\n",
       "      <td>...</td>\n",
       "      <td>0</td>\n",
       "      <td>0</td>\n",
       "      <td>0</td>\n",
       "      <td>0</td>\n",
       "      <td>0</td>\n",
       "      <td>0</td>\n",
       "      <td>0</td>\n",
       "      <td>0</td>\n",
       "      <td>0</td>\n",
       "      <td>0</td>\n",
       "    </tr>\n",
       "    <tr>\n",
       "      <th>1499833431584350216</th>\n",
       "      <td>0</td>\n",
       "      <td>0</td>\n",
       "      <td>0</td>\n",
       "      <td>0</td>\n",
       "      <td>0</td>\n",
       "      <td>0</td>\n",
       "      <td>0</td>\n",
       "      <td>0</td>\n",
       "      <td>0</td>\n",
       "      <td>0</td>\n",
       "      <td>...</td>\n",
       "      <td>0</td>\n",
       "      <td>0</td>\n",
       "      <td>0</td>\n",
       "      <td>0</td>\n",
       "      <td>0</td>\n",
       "      <td>0</td>\n",
       "      <td>0</td>\n",
       "      <td>0</td>\n",
       "      <td>0</td>\n",
       "      <td>0</td>\n",
       "    </tr>\n",
       "    <tr>\n",
       "      <th>...</th>\n",
       "      <td>...</td>\n",
       "      <td>...</td>\n",
       "      <td>...</td>\n",
       "      <td>...</td>\n",
       "      <td>...</td>\n",
       "      <td>...</td>\n",
       "      <td>...</td>\n",
       "      <td>...</td>\n",
       "      <td>...</td>\n",
       "      <td>...</td>\n",
       "      <td>...</td>\n",
       "      <td>...</td>\n",
       "      <td>...</td>\n",
       "      <td>...</td>\n",
       "      <td>...</td>\n",
       "      <td>...</td>\n",
       "      <td>...</td>\n",
       "      <td>...</td>\n",
       "      <td>...</td>\n",
       "      <td>...</td>\n",
       "      <td>...</td>\n",
       "    </tr>\n",
       "    <tr>\n",
       "      <th>1494324123043913737</th>\n",
       "      <td>0</td>\n",
       "      <td>0</td>\n",
       "      <td>0</td>\n",
       "      <td>0</td>\n",
       "      <td>0</td>\n",
       "      <td>0</td>\n",
       "      <td>0</td>\n",
       "      <td>0</td>\n",
       "      <td>0</td>\n",
       "      <td>0</td>\n",
       "      <td>...</td>\n",
       "      <td>0</td>\n",
       "      <td>0</td>\n",
       "      <td>0</td>\n",
       "      <td>0</td>\n",
       "      <td>0</td>\n",
       "      <td>0</td>\n",
       "      <td>0</td>\n",
       "      <td>0</td>\n",
       "      <td>0</td>\n",
       "      <td>0</td>\n",
       "    </tr>\n",
       "    <tr>\n",
       "      <th>1494060952815243264</th>\n",
       "      <td>0</td>\n",
       "      <td>0</td>\n",
       "      <td>0</td>\n",
       "      <td>0</td>\n",
       "      <td>0</td>\n",
       "      <td>0</td>\n",
       "      <td>0</td>\n",
       "      <td>0</td>\n",
       "      <td>0</td>\n",
       "      <td>0</td>\n",
       "      <td>...</td>\n",
       "      <td>0</td>\n",
       "      <td>0</td>\n",
       "      <td>0</td>\n",
       "      <td>0</td>\n",
       "      <td>0</td>\n",
       "      <td>0</td>\n",
       "      <td>0</td>\n",
       "      <td>0</td>\n",
       "      <td>0</td>\n",
       "      <td>0</td>\n",
       "    </tr>\n",
       "    <tr>\n",
       "      <th>1493982341722689538</th>\n",
       "      <td>0</td>\n",
       "      <td>0</td>\n",
       "      <td>0</td>\n",
       "      <td>0</td>\n",
       "      <td>0</td>\n",
       "      <td>0</td>\n",
       "      <td>0</td>\n",
       "      <td>0</td>\n",
       "      <td>0</td>\n",
       "      <td>0</td>\n",
       "      <td>...</td>\n",
       "      <td>0</td>\n",
       "      <td>0</td>\n",
       "      <td>0</td>\n",
       "      <td>0</td>\n",
       "      <td>0</td>\n",
       "      <td>0</td>\n",
       "      <td>0</td>\n",
       "      <td>0</td>\n",
       "      <td>0</td>\n",
       "      <td>0</td>\n",
       "    </tr>\n",
       "    <tr>\n",
       "      <th>1493681712630403077</th>\n",
       "      <td>0</td>\n",
       "      <td>0</td>\n",
       "      <td>0</td>\n",
       "      <td>0</td>\n",
       "      <td>0</td>\n",
       "      <td>0</td>\n",
       "      <td>0</td>\n",
       "      <td>0</td>\n",
       "      <td>0</td>\n",
       "      <td>0</td>\n",
       "      <td>...</td>\n",
       "      <td>0</td>\n",
       "      <td>0</td>\n",
       "      <td>0</td>\n",
       "      <td>0</td>\n",
       "      <td>0</td>\n",
       "      <td>0</td>\n",
       "      <td>0</td>\n",
       "      <td>0</td>\n",
       "      <td>0</td>\n",
       "      <td>0</td>\n",
       "    </tr>\n",
       "    <tr>\n",
       "      <th>1493639941867200514</th>\n",
       "      <td>0</td>\n",
       "      <td>0</td>\n",
       "      <td>0</td>\n",
       "      <td>0</td>\n",
       "      <td>0</td>\n",
       "      <td>0</td>\n",
       "      <td>0</td>\n",
       "      <td>0</td>\n",
       "      <td>0</td>\n",
       "      <td>0</td>\n",
       "      <td>...</td>\n",
       "      <td>1</td>\n",
       "      <td>0</td>\n",
       "      <td>0</td>\n",
       "      <td>0</td>\n",
       "      <td>0</td>\n",
       "      <td>0</td>\n",
       "      <td>0</td>\n",
       "      <td>0</td>\n",
       "      <td>0</td>\n",
       "      <td>0</td>\n",
       "    </tr>\n",
       "  </tbody>\n",
       "</table>\n",
       "<p>1338 rows × 610 columns</p>\n",
       "</div>"
      ],
      "text/plain": [
       "                     000  10  100  11  12  15  16  18  19  1james  ...  work  \\\n",
       "id                                                                 ...         \n",
       "1500215577817886725    0   0    0   0   0   0   0   0   0       0  ...     1   \n",
       "1499909560030662661    0   0    0   0   0   0   0   0   0       0  ...     0   \n",
       "1499834444349386758    0   0    0   0   0   0   0   0   0       0  ...     0   \n",
       "1499833815874818052    0   0    0   0   0   0   0   0   0       0  ...     0   \n",
       "1499833431584350216    0   0    0   0   0   0   0   0   0       0  ...     0   \n",
       "...                  ...  ..  ...  ..  ..  ..  ..  ..  ..     ...  ...   ...   \n",
       "1494324123043913737    0   0    0   0   0   0   0   0   0       0  ...     0   \n",
       "1494060952815243264    0   0    0   0   0   0   0   0   0       0  ...     0   \n",
       "1493982341722689538    0   0    0   0   0   0   0   0   0       0  ...     0   \n",
       "1493681712630403077    0   0    0   0   0   0   0   0   0       0  ...     0   \n",
       "1493639941867200514    0   0    0   0   0   0   0   0   0       0  ...     1   \n",
       "\n",
       "                     worker  world  worried  wound  year  yemen  yesterday  \\\n",
       "id                                                                           \n",
       "1500215577817886725       0      0        0      0     0      0          0   \n",
       "1499909560030662661       0      0        0      0     0      0          0   \n",
       "1499834444349386758       0      0        0      0     0      0          0   \n",
       "1499833815874818052       0      0        0      0     0      0          0   \n",
       "1499833431584350216       0      0        0      0     0      0          0   \n",
       "...                     ...    ...      ...    ...   ...    ...        ...   \n",
       "1494324123043913737       0      0        0      0     0      0          0   \n",
       "1494060952815243264       0      0        0      0     0      0          0   \n",
       "1493982341722689538       0      0        0      0     0      0          0   \n",
       "1493681712630403077       0      0        0      0     0      0          0   \n",
       "1493639941867200514       0      0        0      0     0      0          0   \n",
       "\n",
       "                     young  zone  \n",
       "id                                \n",
       "1500215577817886725      0     0  \n",
       "1499909560030662661      0     0  \n",
       "1499834444349386758      0     0  \n",
       "1499833815874818052      0     0  \n",
       "1499833431584350216      0     0  \n",
       "...                    ...   ...  \n",
       "1494324123043913737      0     0  \n",
       "1494060952815243264      0     0  \n",
       "1493982341722689538      0     0  \n",
       "1493681712630403077      0     0  \n",
       "1493639941867200514      0     0  \n",
       "\n",
       "[1338 rows x 610 columns]"
      ]
     },
     "execution_count": 29,
     "metadata": {},
     "output_type": "execute_result"
    }
   ],
   "source": [
    "adjacency_matrix"
   ]
  },
  {
   "cell_type": "code",
   "execution_count": 30,
   "metadata": {},
   "outputs": [],
   "source": [
    "adjacency_matrix.to_csv('adjacency_matrix.csv', index=True)"
   ]
  },
  {
   "cell_type": "code",
   "execution_count": 31,
   "metadata": {
    "tags": []
   },
   "outputs": [
    {
     "data": {
      "text/html": [
       "<div>\n",
       "<style scoped>\n",
       "    .dataframe tbody tr th:only-of-type {\n",
       "        vertical-align: middle;\n",
       "    }\n",
       "\n",
       "    .dataframe tbody tr th {\n",
       "        vertical-align: top;\n",
       "    }\n",
       "\n",
       "    .dataframe thead th {\n",
       "        text-align: right;\n",
       "    }\n",
       "</style>\n",
       "<table border=\"1\" class=\"dataframe\">\n",
       "  <thead>\n",
       "    <tr style=\"text-align: right;\">\n",
       "      <th></th>\n",
       "      <th>id</th>\n",
       "      <th>target</th>\n",
       "    </tr>\n",
       "  </thead>\n",
       "  <tbody>\n",
       "    <tr>\n",
       "      <th>0</th>\n",
       "      <td>1500215577817886725</td>\n",
       "      <td>20</td>\n",
       "    </tr>\n",
       "    <tr>\n",
       "      <th>1</th>\n",
       "      <td>1500215577817886725</td>\n",
       "      <td>critical</td>\n",
       "    </tr>\n",
       "    <tr>\n",
       "      <th>2</th>\n",
       "      <td>1500215577817886725</td>\n",
       "      <td>donate</td>\n",
       "    </tr>\n",
       "    <tr>\n",
       "      <th>3</th>\n",
       "      <td>1500215577817886725</td>\n",
       "      <td>emergency</td>\n",
       "    </tr>\n",
       "    <tr>\n",
       "      <th>4</th>\n",
       "      <td>1500215577817886725</td>\n",
       "      <td>hungary</td>\n",
       "    </tr>\n",
       "    <tr>\n",
       "      <th>...</th>\n",
       "      <td>...</td>\n",
       "      <td>...</td>\n",
       "    </tr>\n",
       "    <tr>\n",
       "      <th>13</th>\n",
       "      <td>1493639941867200514</td>\n",
       "      <td>relief</td>\n",
       "    </tr>\n",
       "    <tr>\n",
       "      <th>14</th>\n",
       "      <td>1493639941867200514</td>\n",
       "      <td>team</td>\n",
       "    </tr>\n",
       "    <tr>\n",
       "      <th>15</th>\n",
       "      <td>1493639941867200514</td>\n",
       "      <td>travel</td>\n",
       "    </tr>\n",
       "    <tr>\n",
       "      <th>16</th>\n",
       "      <td>1493639941867200514</td>\n",
       "      <td>wck</td>\n",
       "    </tr>\n",
       "    <tr>\n",
       "      <th>17</th>\n",
       "      <td>1493639941867200514</td>\n",
       "      <td>work</td>\n",
       "    </tr>\n",
       "  </tbody>\n",
       "</table>\n",
       "<p>11315 rows × 2 columns</p>\n",
       "</div>"
      ],
      "text/plain": [
       "                     id     target\n",
       "0   1500215577817886725         20\n",
       "1   1500215577817886725   critical\n",
       "2   1500215577817886725     donate\n",
       "3   1500215577817886725  emergency\n",
       "4   1500215577817886725    hungary\n",
       "..                  ...        ...\n",
       "13  1493639941867200514     relief\n",
       "14  1493639941867200514       team\n",
       "15  1493639941867200514     travel\n",
       "16  1493639941867200514        wck\n",
       "17  1493639941867200514       work\n",
       "\n",
       "[11315 rows x 2 columns]"
      ]
     },
     "execution_count": 31,
     "metadata": {},
     "output_type": "execute_result"
    }
   ],
   "source": [
    "adjacency_list = create_adjacency_list(adjacency_matrix)\n",
    "adjacency_list"
   ]
  },
  {
   "cell_type": "raw",
   "metadata": {},
   "source": [
    "export the adjacency list for community detection in gephi"
   ]
  },
  {
   "cell_type": "code",
   "execution_count": 32,
   "metadata": {},
   "outputs": [],
   "source": [
    "adjacency_list.rename(columns={'id':'Source','target':'Target'}, inplace = True)"
   ]
  },
  {
   "cell_type": "code",
   "execution_count": 33,
   "metadata": {},
   "outputs": [],
   "source": [
    "adjacency_list.to_csv('adjacency_list_v1.csv', index = False)"
   ]
  },
  {
   "cell_type": "raw",
   "metadata": {},
   "source": [
    "run these lines to merge the adjency list for data analysis in later steps"
   ]
  },
  {
   "cell_type": "code",
   "execution_count": 34,
   "metadata": {},
   "outputs": [],
   "source": [
    "adjacency_list_for_merging = adjacency_list.rename(columns={'Source':'id','target':'Target'}).merge(data[['id','brand']], on = 'id')"
   ]
  },
  {
   "cell_type": "code",
   "execution_count": 35,
   "metadata": {},
   "outputs": [
    {
     "data": {
      "text/html": [
       "<div>\n",
       "<style scoped>\n",
       "    .dataframe tbody tr th:only-of-type {\n",
       "        vertical-align: middle;\n",
       "    }\n",
       "\n",
       "    .dataframe tbody tr th {\n",
       "        vertical-align: top;\n",
       "    }\n",
       "\n",
       "    .dataframe thead th {\n",
       "        text-align: right;\n",
       "    }\n",
       "</style>\n",
       "<table border=\"1\" class=\"dataframe\">\n",
       "  <thead>\n",
       "    <tr style=\"text-align: right;\">\n",
       "      <th></th>\n",
       "      <th>id</th>\n",
       "      <th>Target</th>\n",
       "      <th>brand</th>\n",
       "    </tr>\n",
       "  </thead>\n",
       "  <tbody>\n",
       "    <tr>\n",
       "      <th>0</th>\n",
       "      <td>1500215577817886725</td>\n",
       "      <td>20</td>\n",
       "      <td>@GlobalGiving</td>\n",
       "    </tr>\n",
       "    <tr>\n",
       "      <th>1</th>\n",
       "      <td>1500215577817886725</td>\n",
       "      <td>critical</td>\n",
       "      <td>@GlobalGiving</td>\n",
       "    </tr>\n",
       "    <tr>\n",
       "      <th>2</th>\n",
       "      <td>1500215577817886725</td>\n",
       "      <td>donate</td>\n",
       "      <td>@GlobalGiving</td>\n",
       "    </tr>\n",
       "    <tr>\n",
       "      <th>3</th>\n",
       "      <td>1500215577817886725</td>\n",
       "      <td>emergency</td>\n",
       "      <td>@GlobalGiving</td>\n",
       "    </tr>\n",
       "    <tr>\n",
       "      <th>4</th>\n",
       "      <td>1500215577817886725</td>\n",
       "      <td>hungary</td>\n",
       "      <td>@GlobalGiving</td>\n",
       "    </tr>\n",
       "    <tr>\n",
       "      <th>...</th>\n",
       "      <td>...</td>\n",
       "      <td>...</td>\n",
       "      <td>...</td>\n",
       "    </tr>\n",
       "    <tr>\n",
       "      <th>11310</th>\n",
       "      <td>1493639941867200514</td>\n",
       "      <td>relief</td>\n",
       "      <td>@WCKitchen</td>\n",
       "    </tr>\n",
       "    <tr>\n",
       "      <th>11311</th>\n",
       "      <td>1493639941867200514</td>\n",
       "      <td>team</td>\n",
       "      <td>@WCKitchen</td>\n",
       "    </tr>\n",
       "    <tr>\n",
       "      <th>11312</th>\n",
       "      <td>1493639941867200514</td>\n",
       "      <td>travel</td>\n",
       "      <td>@WCKitchen</td>\n",
       "    </tr>\n",
       "    <tr>\n",
       "      <th>11313</th>\n",
       "      <td>1493639941867200514</td>\n",
       "      <td>wck</td>\n",
       "      <td>@WCKitchen</td>\n",
       "    </tr>\n",
       "    <tr>\n",
       "      <th>11314</th>\n",
       "      <td>1493639941867200514</td>\n",
       "      <td>work</td>\n",
       "      <td>@WCKitchen</td>\n",
       "    </tr>\n",
       "  </tbody>\n",
       "</table>\n",
       "<p>11315 rows × 3 columns</p>\n",
       "</div>"
      ],
      "text/plain": [
       "                        id     Target          brand\n",
       "0      1500215577817886725         20  @GlobalGiving\n",
       "1      1500215577817886725   critical  @GlobalGiving\n",
       "2      1500215577817886725     donate  @GlobalGiving\n",
       "3      1500215577817886725  emergency  @GlobalGiving\n",
       "4      1500215577817886725    hungary  @GlobalGiving\n",
       "...                    ...        ...            ...\n",
       "11310  1493639941867200514     relief     @WCKitchen\n",
       "11311  1493639941867200514       team     @WCKitchen\n",
       "11312  1493639941867200514     travel     @WCKitchen\n",
       "11313  1493639941867200514        wck     @WCKitchen\n",
       "11314  1493639941867200514       work     @WCKitchen\n",
       "\n",
       "[11315 rows x 3 columns]"
      ]
     },
     "execution_count": 35,
     "metadata": {},
     "output_type": "execute_result"
    }
   ],
   "source": [
    "adjacency_list_for_merging"
   ]
  },
  {
   "cell_type": "code",
   "execution_count": 36,
   "metadata": {},
   "outputs": [],
   "source": [
    "adjacency_list_for_merging.to_csv('adjacency_list_for_merging.csv', index = False)"
   ]
  }
 ],
 "metadata": {
  "kernelspec": {
   "display_name": "social_content_analysis",
   "language": "python",
   "name": "social_content_analysis"
  },
  "language_info": {
   "codemirror_mode": {
    "name": "ipython",
    "version": 3
   },
   "file_extension": ".py",
   "mimetype": "text/x-python",
   "name": "python",
   "nbconvert_exporter": "python",
   "pygments_lexer": "ipython3",
   "version": "3.8.8"
  },
  "toc-autonumbering": true
 },
 "nbformat": 4,
 "nbformat_minor": 4
}
